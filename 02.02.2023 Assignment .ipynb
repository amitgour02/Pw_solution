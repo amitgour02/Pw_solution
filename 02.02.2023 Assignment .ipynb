{
 "cells": [
  {
   "cell_type": "code",
   "execution_count": 1,
   "id": "46aaa30f-6006-4805-a27d-cacd86c235e3",
   "metadata": {},
   "outputs": [],
   "source": [
    "#What are the characteristics of the tuples? Is tuple immutable?\n",
    "#Ans - Tuple items are ordered, unchangeable, and allow duplicate values. Tuple items are indexed, the first item has index [0] , the second item has index [1] etc.\n",
    " #yes tuples is immutable."
   ]
  },
  {
   "cell_type": "code",
   "execution_count": 2,
   "id": "cf96f049-b17e-4d78-9905-759e06b543af",
   "metadata": {},
   "outputs": [
    {
     "name": "stdout",
     "output_type": "stream",
     "text": [
      "1\n",
      "2\n"
     ]
    }
   ],
   "source": [
    "# What are the two tuple methods in python? Give an example of each method. Give a reason why tuples have only two in-built methods as compared to Lists.\n",
    "#In Python, tuples are immutables. Meaning, you cannot change items of a tuple once it is assigned. There are only two tuple methods count() and index() that a tuple object can call.\n",
    "tuple1 = (1,2,5,6,10)\n",
    "print(tuple1.count(1))\n",
    "print(tuple1.index(5))\n",
    "\n",
    "#tuples have only two in-built methods because tuple is immutable we can't change anything in it."
   ]
  },
  {
   "cell_type": "code",
   "execution_count": 3,
   "id": "a0a0d099-5a48-4629-8f24-a3b97f14cd1c",
   "metadata": {},
   "outputs": [
    {
     "data": {
      "text/plain": [
       "{1, 2, 3, 4}"
      ]
     },
     "execution_count": 3,
     "metadata": {},
     "output_type": "execute_result"
    }
   ],
   "source": [
    "#Which collection datatypes in python do not allow duplicate items? Write a code using a set to remove duplicates from the given list.\n",
    "#Ans - Sets Sets are a collection that is unordered and unindexed. They are mutable (changeable) but do not allow duplicate values to be held\n",
    "list1 = [1, 1, 1, 2, 1, 3, 1, 4, 2, 1, 2, 2, 2, 3, 2, 4, 3, 1, 3, 2, 3, 3, 3, 4, 4, 1, 4, 2, 4, 3, 4, 4]\n",
    "set1 = set(list1) #remove duplicates from list\n",
    "\n",
    "set1"
   ]
  },
  {
   "cell_type": "code",
   "execution_count": 4,
   "id": "eeaa1e95-06d5-4bb5-bb6c-8f17480c3fd1",
   "metadata": {},
   "outputs": [
    {
     "name": "stdout",
     "output_type": "stream",
     "text": [
      " set1 U set2 = {1, 2, 3, 4, 5, 6, 7, 8, 9}\n",
      "None\n"
     ]
    }
   ],
   "source": [
    "#Explain the difference between the union() and update() methods for a set. Give an example of each method.\n",
    "#Ans -  The first one adds all missing elements to the set on which it is called and returns None , while the latter creates and returns a new set\n",
    "\n",
    "set1 = {1,2,3,4,5,6}\n",
    "set2 = {3,4,5,6,7,8,9}\n",
    "print(f\" set1 U set2 = {set1 | set2}\")\n",
    "c = set1.update(set2)\n",
    "print(c)"
   ]
  },
  {
   "cell_type": "code",
   "execution_count": 5,
   "id": "30819569-267a-4979-aaea-fd8a500ec33f",
   "metadata": {},
   "outputs": [
    {
     "name": "stdout",
     "output_type": "stream",
     "text": [
      "{1: 'apple', 2: 'red', 3: 'rose'}\n"
     ]
    },
    {
     "data": {
      "text/plain": [
       "'red'"
      ]
     },
     "execution_count": 5,
     "metadata": {},
     "output_type": "execute_result"
    }
   ],
   "source": [
    "#Q5. What is a dictionary? Give an example. Also, state whether a dictionary is ordered or unordered.\n",
    "#Ans - Dictionaries are used to store data values in key:value pairs. A dictionary is a collection which is ordered*, changeable and do not allow duplicates\n",
    "dict1 = {1:'apple', 2: 'red' , 3: 'rose',3: 'rose'}\n",
    "print(dict1)\n",
    "dict1[2]"
   ]
  },
  {
   "cell_type": "code",
   "execution_count": 6,
   "id": "695ca6d6-02f7-4046-8450-76c32ebad70a",
   "metadata": {},
   "outputs": [
    {
     "name": "stdout",
     "output_type": "stream",
     "text": [
      "{1: 'apple', 2: 'red', 3: 'rose'}\n",
      "{4: 'amit', 5: {1: 'apple', 2: 'red', 3: 'rose'}}\n",
      "{10: 'ram', 12: {4: 'amit', 5: {1: 'apple', 2: 'red', 3: 'rose'}}}\n",
      "{1: 'apple', 2: 'red', 3: 'rose'}\n",
      "red\n"
     ]
    }
   ],
   "source": [
    "#Q6. Can we create a nested dictionary? If so, please give an example by creating a simple one-level nested dictionary.\n",
    "# Ans - yes we can crete nested dictionary.\n",
    "dict1 = {1: 'apple', 2: 'red', 3: 'rose'}\n",
    "dict2 = {4: 'amit', 5: dict1}\n",
    "dict3 = {10: 'ram', 12: dict2}\n",
    "print(dict1)\n",
    "print(dict2)\n",
    "print(dict3)\n",
    "print(dict2[5])\n",
    "print(dict2[5][2])"
   ]
  },
  {
   "cell_type": "code",
   "execution_count": 7,
   "id": "dc26322c-fb4b-427c-8fb8-38b48bfb9d43",
   "metadata": {},
   "outputs": [
    {
     "name": "stdout",
     "output_type": "stream",
     "text": [
      "{'language': 'Python', 'course': 'Data Science Masters', 'topics': ['Python', 'Machine Learning', 'Deep Learning']}\n"
     ]
    }
   ],
   "source": [
    "#Using setdefault() method, create key named topics in the given dictionary and also add the value of the key as this list ['Python', 'Machine Learning', 'Deep Learning']\n",
    "list1 = ['Python', 'Machine Learning', 'Deep Learning']\n",
    "dict1 = {'language': 'Python', 'course': 'Data Science Masters'}\n",
    "dict2 = dict1.setdefault('topics' , list1)\n",
    "print(dict1)"
   ]
  },
  {
   "cell_type": "code",
   "execution_count": 8,
   "id": "78c1cba3-9802-4f2a-a6e0-d76b25e70549",
   "metadata": {},
   "outputs": [
    {
     "name": "stdout",
     "output_type": "stream",
     "text": [
      "dict_keys(['Sport', 'Teams'])\n",
      "dict_values(['Cricket', ['India', 'Australia', 'England', 'South Africa', 'Sri Lanka', 'New Zealand']])\n",
      "dict_items([('Sport', 'Cricket'), ('Teams', ['India', 'Australia', 'England', 'South Africa', 'Sri Lanka', 'New Zealand'])])\n"
     ]
    }
   ],
   "source": [
    "#\n",
    "#Ans - The main view objects of dictionary in python are keys, values and items.\n",
    "dict1 = {'Sport': 'Cricket', 'Teams': ['India', 'Australia', 'England', 'South Africa', 'Sri Lanka', 'New Zealand']}\n",
    "print(dict1.keys())\n",
    "print(dict1.values())\n",
    "print(dict1.items())\n"
   ]
  },
  {
   "cell_type": "code",
   "execution_count": null,
   "id": "4a8b8b66-7d69-4bd9-92ea-53fdb0afada0",
   "metadata": {},
   "outputs": [],
   "source": []
  }
 ],
 "metadata": {
  "kernelspec": {
   "display_name": "Python 3 (ipykernel)",
   "language": "python",
   "name": "python3"
  },
  "language_info": {
   "codemirror_mode": {
    "name": "ipython",
    "version": 3
   },
   "file_extension": ".py",
   "mimetype": "text/x-python",
   "name": "python",
   "nbconvert_exporter": "python",
   "pygments_lexer": "ipython3",
   "version": "3.10.8"
  }
 },
 "nbformat": 4,
 "nbformat_minor": 5
}
